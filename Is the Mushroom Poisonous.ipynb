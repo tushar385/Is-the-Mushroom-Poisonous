{
  "nbformat": 4,
  "nbformat_minor": 0,
  "metadata": {
    "colab": {
      "name": "Activity8_01.ipynb",
      "provenance": [],
      "collapsed_sections": []
    },
    "kernelspec": {
      "display_name": "Python 3",
      "language": "python",
      "name": "python3"
    },
    "language_info": {
      "codemirror_mode": {
        "name": "ipython",
        "version": 3
      },
      "file_extension": ".py",
      "mimetype": "text/x-python",
      "name": "python",
      "nbconvert_exporter": "python",
      "pygments_lexer": "ipython3",
      "version": "3.7.6"
    },
    "accelerator": "GPU"
  },
  "cells": [
    {
      "cell_type": "code",
      "metadata": {
        "colab_type": "code",
        "id": "D7JgAqboXaYz",
        "colab": {}
      },
      "source": [
        "import pandas as pd"
      ],
      "execution_count": 1,
      "outputs": []
    },
    {
      "cell_type": "code",
      "metadata": {
        "colab_type": "code",
        "id": "rV4rlbk_X_Cx",
        "colab": {}
      },
      "source": [
        "mushrooms = pd.read_csv('/content/agaricus-lepiota.data', header=None)"
      ],
      "execution_count": 2,
      "outputs": []
    },
    {
      "cell_type": "code",
      "metadata": {
        "colab_type": "code",
        "id": "-nC04CscYImK",
        "colab": {}
      },
      "source": [
        "y_raw = mushrooms.iloc[:,0]\n",
        "X_raw = mushrooms.iloc[:,1:]\n",
        "y = (y_raw == 'p') * 1"
      ],
      "execution_count": 3,
      "outputs": []
    },
    {
      "cell_type": "code",
      "metadata": {
        "colab_type": "code",
        "id": "_b7quE4PYLIZ",
        "colab": {}
      },
      "source": [
        "from sklearn import preprocessing\n",
        "encoder = preprocessing.OneHotEncoder()\n",
        "\n",
        "encoder.fit(X_raw)\n",
        "\n",
        "X = encoder.transform(X_raw).toarray()"
      ],
      "execution_count": 4,
      "outputs": []
    },
    {
      "cell_type": "code",
      "metadata": {
        "id": "ZK804uX3qqLa",
        "colab_type": "code",
        "colab": {
          "base_uri": "https://localhost:8080/",
          "height": 889
        },
        "outputId": "3a334714-ff6c-4aab-fe1f-74dad408cc55"
      },
      "source": [
        "#Initialize the classifier.\n",
        "from sklearn import ensemble\n",
        "rfc = ensemble.RandomForestClassifier(n_estimators=100, random_state=100)\n",
        "\n",
        "#Conduct a grid search.\n",
        "from sklearn import model_selection\n",
        "grid = {\n",
        "    'criterion': ['gini', 'entropy'],\n",
        "    'max_features': [2, 4, 6, 8, 10, 12, 14]\n",
        "}\n",
        "gscv = model_selection.GridSearchCV(estimator=rfc, param_grid=grid, cv=5, scoring='accuracy')\n",
        "gscv.fit(X,y)\n",
        "results = pd.DataFrame(gscv.cv_results_)\n",
        "results.sort_values('rank_test_score', ascending=True).head(10)\n",
        "\n"
      ],
      "execution_count": 11,
      "outputs": [
        {
          "output_type": "execute_result",
          "data": {
            "text/html": [
              "<div>\n",
              "<style scoped>\n",
              "    .dataframe tbody tr th:only-of-type {\n",
              "        vertical-align: middle;\n",
              "    }\n",
              "\n",
              "    .dataframe tbody tr th {\n",
              "        vertical-align: top;\n",
              "    }\n",
              "\n",
              "    .dataframe thead th {\n",
              "        text-align: right;\n",
              "    }\n",
              "</style>\n",
              "<table border=\"1\" class=\"dataframe\">\n",
              "  <thead>\n",
              "    <tr style=\"text-align: right;\">\n",
              "      <th></th>\n",
              "      <th>mean_fit_time</th>\n",
              "      <th>std_fit_time</th>\n",
              "      <th>mean_score_time</th>\n",
              "      <th>std_score_time</th>\n",
              "      <th>param_criterion</th>\n",
              "      <th>param_max_features</th>\n",
              "      <th>params</th>\n",
              "      <th>split0_test_score</th>\n",
              "      <th>split1_test_score</th>\n",
              "      <th>split2_test_score</th>\n",
              "      <th>split3_test_score</th>\n",
              "      <th>split4_test_score</th>\n",
              "      <th>mean_test_score</th>\n",
              "      <th>std_test_score</th>\n",
              "      <th>rank_test_score</th>\n",
              "    </tr>\n",
              "  </thead>\n",
              "  <tbody>\n",
              "    <tr>\n",
              "      <th>9</th>\n",
              "      <td>0.269853</td>\n",
              "      <td>0.010221</td>\n",
              "      <td>0.019403</td>\n",
              "      <td>0.000694</td>\n",
              "      <td>entropy</td>\n",
              "      <td>6</td>\n",
              "      <td>{'criterion': 'entropy', 'max_features': 6}</td>\n",
              "      <td>0.842462</td>\n",
              "      <td>1.0</td>\n",
              "      <td>0.999385</td>\n",
              "      <td>1.0</td>\n",
              "      <td>0.838670</td>\n",
              "      <td>0.936103</td>\n",
              "      <td>0.078016</td>\n",
              "      <td>1</td>\n",
              "    </tr>\n",
              "    <tr>\n",
              "      <th>13</th>\n",
              "      <td>0.346484</td>\n",
              "      <td>0.010234</td>\n",
              "      <td>0.018184</td>\n",
              "      <td>0.000648</td>\n",
              "      <td>entropy</td>\n",
              "      <td>14</td>\n",
              "      <td>{'criterion': 'entropy', 'max_features': 14}</td>\n",
              "      <td>0.842462</td>\n",
              "      <td>1.0</td>\n",
              "      <td>1.000000</td>\n",
              "      <td>1.0</td>\n",
              "      <td>0.821429</td>\n",
              "      <td>0.932778</td>\n",
              "      <td>0.082598</td>\n",
              "      <td>2</td>\n",
              "    </tr>\n",
              "    <tr>\n",
              "      <th>6</th>\n",
              "      <td>0.337975</td>\n",
              "      <td>0.014951</td>\n",
              "      <td>0.017965</td>\n",
              "      <td>0.000894</td>\n",
              "      <td>gini</td>\n",
              "      <td>14</td>\n",
              "      <td>{'criterion': 'gini', 'max_features': 14}</td>\n",
              "      <td>0.842462</td>\n",
              "      <td>1.0</td>\n",
              "      <td>1.000000</td>\n",
              "      <td>1.0</td>\n",
              "      <td>0.819581</td>\n",
              "      <td>0.932409</td>\n",
              "      <td>0.083098</td>\n",
              "      <td>3</td>\n",
              "    </tr>\n",
              "    <tr>\n",
              "      <th>10</th>\n",
              "      <td>0.288314</td>\n",
              "      <td>0.009642</td>\n",
              "      <td>0.018829</td>\n",
              "      <td>0.000991</td>\n",
              "      <td>entropy</td>\n",
              "      <td>8</td>\n",
              "      <td>{'criterion': 'entropy', 'max_features': 8}</td>\n",
              "      <td>0.842462</td>\n",
              "      <td>1.0</td>\n",
              "      <td>1.000000</td>\n",
              "      <td>1.0</td>\n",
              "      <td>0.806034</td>\n",
              "      <td>0.929699</td>\n",
              "      <td>0.086868</td>\n",
              "      <td>4</td>\n",
              "    </tr>\n",
              "    <tr>\n",
              "      <th>4</th>\n",
              "      <td>0.300035</td>\n",
              "      <td>0.007204</td>\n",
              "      <td>0.018703</td>\n",
              "      <td>0.002192</td>\n",
              "      <td>gini</td>\n",
              "      <td>10</td>\n",
              "      <td>{'criterion': 'gini', 'max_features': 10}</td>\n",
              "      <td>0.842462</td>\n",
              "      <td>1.0</td>\n",
              "      <td>1.000000</td>\n",
              "      <td>1.0</td>\n",
              "      <td>0.798030</td>\n",
              "      <td>0.928098</td>\n",
              "      <td>0.089175</td>\n",
              "      <td>5</td>\n",
              "    </tr>\n",
              "    <tr>\n",
              "      <th>12</th>\n",
              "      <td>0.320359</td>\n",
              "      <td>0.004429</td>\n",
              "      <td>0.018885</td>\n",
              "      <td>0.001082</td>\n",
              "      <td>entropy</td>\n",
              "      <td>12</td>\n",
              "      <td>{'criterion': 'entropy', 'max_features': 12}</td>\n",
              "      <td>0.842462</td>\n",
              "      <td>1.0</td>\n",
              "      <td>0.999385</td>\n",
              "      <td>1.0</td>\n",
              "      <td>0.796182</td>\n",
              "      <td>0.927606</td>\n",
              "      <td>0.089617</td>\n",
              "      <td>6</td>\n",
              "    </tr>\n",
              "    <tr>\n",
              "      <th>11</th>\n",
              "      <td>0.298215</td>\n",
              "      <td>0.013553</td>\n",
              "      <td>0.018413</td>\n",
              "      <td>0.000659</td>\n",
              "      <td>entropy</td>\n",
              "      <td>10</td>\n",
              "      <td>{'criterion': 'entropy', 'max_features': 10}</td>\n",
              "      <td>0.842462</td>\n",
              "      <td>1.0</td>\n",
              "      <td>1.000000</td>\n",
              "      <td>1.0</td>\n",
              "      <td>0.792488</td>\n",
              "      <td>0.926990</td>\n",
              "      <td>0.090805</td>\n",
              "      <td>7</td>\n",
              "    </tr>\n",
              "    <tr>\n",
              "      <th>1</th>\n",
              "      <td>0.253074</td>\n",
              "      <td>0.007968</td>\n",
              "      <td>0.020930</td>\n",
              "      <td>0.001477</td>\n",
              "      <td>gini</td>\n",
              "      <td>4</td>\n",
              "      <td>{'criterion': 'gini', 'max_features': 4}</td>\n",
              "      <td>0.842462</td>\n",
              "      <td>1.0</td>\n",
              "      <td>1.000000</td>\n",
              "      <td>1.0</td>\n",
              "      <td>0.781404</td>\n",
              "      <td>0.924773</td>\n",
              "      <td>0.094135</td>\n",
              "      <td>8</td>\n",
              "    </tr>\n",
              "    <tr>\n",
              "      <th>3</th>\n",
              "      <td>0.298062</td>\n",
              "      <td>0.017942</td>\n",
              "      <td>0.019701</td>\n",
              "      <td>0.001174</td>\n",
              "      <td>gini</td>\n",
              "      <td>8</td>\n",
              "      <td>{'criterion': 'gini', 'max_features': 8}</td>\n",
              "      <td>0.842462</td>\n",
              "      <td>1.0</td>\n",
              "      <td>1.000000</td>\n",
              "      <td>1.0</td>\n",
              "      <td>0.760468</td>\n",
              "      <td>0.920586</td>\n",
              "      <td>0.100659</td>\n",
              "      <td>9</td>\n",
              "    </tr>\n",
              "    <tr>\n",
              "      <th>2</th>\n",
              "      <td>0.271572</td>\n",
              "      <td>0.011012</td>\n",
              "      <td>0.019550</td>\n",
              "      <td>0.000755</td>\n",
              "      <td>gini</td>\n",
              "      <td>6</td>\n",
              "      <td>{'criterion': 'gini', 'max_features': 6}</td>\n",
              "      <td>0.842462</td>\n",
              "      <td>1.0</td>\n",
              "      <td>1.000000</td>\n",
              "      <td>1.0</td>\n",
              "      <td>0.759852</td>\n",
              "      <td>0.920463</td>\n",
              "      <td>0.100855</td>\n",
              "      <td>10</td>\n",
              "    </tr>\n",
              "  </tbody>\n",
              "</table>\n",
              "</div>"
            ],
            "text/plain": [
              "    mean_fit_time  std_fit_time  ...  std_test_score  rank_test_score\n",
              "9        0.269853      0.010221  ...        0.078016                1\n",
              "13       0.346484      0.010234  ...        0.082598                2\n",
              "6        0.337975      0.014951  ...        0.083098                3\n",
              "10       0.288314      0.009642  ...        0.086868                4\n",
              "4        0.300035      0.007204  ...        0.089175                5\n",
              "12       0.320359      0.004429  ...        0.089617                6\n",
              "11       0.298215      0.013553  ...        0.090805                7\n",
              "1        0.253074      0.007968  ...        0.094135                8\n",
              "3        0.298062      0.017942  ...        0.100659                9\n",
              "2        0.271572      0.011012  ...        0.100855               10\n",
              "\n",
              "[10 rows x 15 columns]"
            ]
          },
          "metadata": {
            "tags": []
          },
          "execution_count": 11
        }
      ]
    },
    {
      "cell_type": "code",
      "metadata": {
        "id": "MQpk-_TBqxoL",
        "colab_type": "code",
        "colab": {
          "base_uri": "https://localhost:8080/",
          "height": 282
        },
        "outputId": "e6035037-cb7e-4b82-9221-036f8f2229af"
      },
      "source": [
        "results.loc[:,'params'] = results.loc[:,'params'].astype(str)\n",
        "\n",
        "(\n",
        "    results.sort_values('rank_test_score', ascending=False)\n",
        "    .loc[:,['params','mean_test_score']]\n",
        "    .drop_duplicates()\n",
        "    .head(10)\n",
        "    .plot.barh(x='params', xlim=(0.8))\n",
        ")"
      ],
      "execution_count": 12,
      "outputs": [
        {
          "output_type": "execute_result",
          "data": {
            "text/plain": [
              "<matplotlib.axes._subplots.AxesSubplot at 0x7f36be007438>"
            ]
          },
          "metadata": {
            "tags": []
          },
          "execution_count": 12
        },
        {
          "output_type": "display_data",
          "data": {
            "image/png": "[encoded data removed]",
            "text/plain": [
              "<Figure size 432x288 with 1 Axes>"
            ]
          },
          "metadata": {
            "tags": [],
            "needs_background": "light"
          }
        }
      ]
    }
  ]
}